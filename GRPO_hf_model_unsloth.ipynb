{
 "cells": [
  {
   "cell_type": "markdown",
   "metadata": {},
   "source": [
    "## Finetuning HF models using `GRPO` on `Unsloth`\n",
    "---\n",
    "\n",
    "DeepSeek created their RL algorithm, `GRPO` (Group Relative Policy Optimization) to train their R1 reasoning models. `GRPO` is a reinforcement learning (RL) technique that optimizes responses efficiently without requiring a value function model. This reduces memory and computational costs compared to methods like `PPO` (Proximal Policy Optimization).\n",
    "\n",
    "In this notebook, we will be using `GRPO` to finetune llama3 models on Hugging Face.\n",
    "\n",
    "Note: Most of this example is fetched from: https://colab.research.google.com/github/unslothai/notebooks/blob/main/nb/Llama3.1_(8B)-GRPO.ipynb#scrollTo=qtcz_lpbVC92"
   ]
  },
  {
   "cell_type": "code",
   "execution_count": 1,
   "metadata": {},
   "outputs": [
    {
     "name": "stdout",
     "output_type": "stream",
     "text": [
      "🦥 Unsloth: Will patch your computer to enable 2x faster free finetuning.\n"
     ]
    },
    {
     "name": "stderr",
     "output_type": "stream",
     "text": [
      "/home/ubuntu/unsloth-finetune-ec2/.venv/lib/python3.12/site-packages/unsloth/models/llama.py:1891: SyntaxWarning: invalid escape sequence '\\.'\n",
      "  start = re.search('logger\\.info\\([\\\"\\'].+?Running training', inner_training_loop).span(0)[0]\n",
      "/home/ubuntu/unsloth-finetune-ec2/.venv/lib/python3.12/site-packages/unsloth/models/llama.py:1894: SyntaxWarning: invalid escape sequence '\\s'\n",
      "  spaces = re.search('\\n([\\s\\t]{1,})', original_debug).group(0)[1:]\n",
      "/home/ubuntu/unsloth-finetune-ec2/.venv/lib/python3.12/site-packages/unsloth/models/llama.py:1895: SyntaxWarning: invalid escape sequence '\\s'\n",
      "  front_spaces = re.match('([\\s\\t]{1,})', inner_training_loop).group(0)\n",
      "/home/ubuntu/unsloth-finetune-ec2/.venv/lib/python3.12/site-packages/unsloth/models/_utils.py:592: SyntaxWarning: invalid escape sequence '\\.'\n",
      "  source = re.sub(\"([^\\.])nn\\.\", r\"\\1torch.nn.\", source)\n",
      "/home/ubuntu/unsloth-finetune-ec2/.venv/lib/python3.12/site-packages/unsloth/models/_utils.py:855: SyntaxWarning: invalid escape sequence '\\)'\n",
      "  \"self.rotary_emb = .+?\\)\", function,\n",
      "/home/ubuntu/unsloth-finetune-ec2/.venv/lib/python3.12/site-packages/unsloth/models/_utils.py:955: SyntaxWarning: invalid escape sequence '\\)'\n",
      "  \"self.rotary_emb = .+?\\)\", function,\n",
      "/home/ubuntu/unsloth-finetune-ec2/.venv/lib/python3.12/site-packages/tqdm/auto.py:21: TqdmWarning: IProgress not found. Please update jupyter and ipywidgets. See https://ipywidgets.readthedocs.io/en/stable/user_install.html\n",
      "  from .autonotebook import tqdm as notebook_tqdm\n",
      "/home/ubuntu/unsloth-finetune-ec2/.venv/lib/python3.12/site-packages/unsloth_zoo/compiler.py:346: SyntaxWarning: invalid escape sequence '\\s'\n",
      "  left = re.match(\"[\\s\\n]{4,}\", leftover).span()[1]\n",
      "/home/ubuntu/unsloth-finetune-ec2/.venv/lib/python3.12/site-packages/unsloth_zoo/compiler.py:502: SyntaxWarning: invalid escape sequence '\\*'\n",
      "  .replace(\"*\", \"\\*\").replace(\"^\", \"\\^\")\\\n",
      "/home/ubuntu/unsloth-finetune-ec2/.venv/lib/python3.12/site-packages/unsloth_zoo/compiler.py:502: SyntaxWarning: invalid escape sequence '\\^'\n",
      "  .replace(\"*\", \"\\*\").replace(\"^\", \"\\^\")\\\n",
      "/home/ubuntu/unsloth-finetune-ec2/.venv/lib/python3.12/site-packages/unsloth_zoo/compiler.py:503: SyntaxWarning: invalid escape sequence '\\-'\n",
      "  .replace(\"-\", \"\\-\").replace(\"_\", \"\\_\")\\\n",
      "/home/ubuntu/unsloth-finetune-ec2/.venv/lib/python3.12/site-packages/unsloth_zoo/compiler.py:503: SyntaxWarning: invalid escape sequence '\\_'\n",
      "  .replace(\"-\", \"\\-\").replace(\"_\", \"\\_\")\\\n",
      "/home/ubuntu/unsloth-finetune-ec2/.venv/lib/python3.12/site-packages/unsloth_zoo/compiler.py:504: SyntaxWarning: invalid escape sequence '\\:'\n",
      "  .replace(\":\", \"\\:\").replace(\"+\", \"\\+\")\\\n",
      "/home/ubuntu/unsloth-finetune-ec2/.venv/lib/python3.12/site-packages/unsloth_zoo/compiler.py:504: SyntaxWarning: invalid escape sequence '\\+'\n",
      "  .replace(\":\", \"\\:\").replace(\"+\", \"\\+\")\\\n",
      "/home/ubuntu/unsloth-finetune-ec2/.venv/lib/python3.12/site-packages/unsloth_zoo/compiler.py:505: SyntaxWarning: invalid escape sequence '\\.'\n",
      "  .replace(\".\", \"\\.\").replace(\",\", \"\\,\")\\\n",
      "/home/ubuntu/unsloth-finetune-ec2/.venv/lib/python3.12/site-packages/unsloth_zoo/compiler.py:505: SyntaxWarning: invalid escape sequence '\\,'\n",
      "  .replace(\".\", \"\\.\").replace(\",\", \"\\,\")\\\n",
      "/home/ubuntu/unsloth-finetune-ec2/.venv/lib/python3.12/site-packages/unsloth_zoo/compiler.py:506: SyntaxWarning: invalid escape sequence '\\('\n",
      "  .replace(\"(\", \"\\(\").replace(\")\", \"\\)\")\\\n",
      "/home/ubuntu/unsloth-finetune-ec2/.venv/lib/python3.12/site-packages/unsloth_zoo/compiler.py:506: SyntaxWarning: invalid escape sequence '\\)'\n",
      "  .replace(\"(\", \"\\(\").replace(\")\", \"\\)\")\\\n",
      "/home/ubuntu/unsloth-finetune-ec2/.venv/lib/python3.12/site-packages/unsloth_zoo/compiler.py:507: SyntaxWarning: invalid escape sequence '\\['\n",
      "  .replace(\"[\", \"\\[\").replace(\"]\", \"\\]\")\\\n",
      "/home/ubuntu/unsloth-finetune-ec2/.venv/lib/python3.12/site-packages/unsloth_zoo/compiler.py:507: SyntaxWarning: invalid escape sequence '\\]'\n",
      "  .replace(\"[\", \"\\[\").replace(\"]\", \"\\]\")\\\n",
      "/home/ubuntu/unsloth-finetune-ec2/.venv/lib/python3.12/site-packages/unsloth_zoo/compiler.py:615: SyntaxWarning: invalid escape sequence '\\:'\n",
      "  r\"for ([^\\s]{1,}) in \" + modulelist_item + \"\\:[\\n]\" + \\\n",
      "/home/ubuntu/unsloth-finetune-ec2/.venv/lib/python3.12/site-packages/unsloth_zoo/compiler.py:819: SyntaxWarning: invalid escape sequence '\\('\n",
      "  regex_find = f\"{call_class}\\(([^\\)]{{1,}})\\)\"\n",
      "/home/ubuntu/unsloth-finetune-ec2/.venv/lib/python3.12/site-packages/unsloth_zoo/compiler.py:819: SyntaxWarning: invalid escape sequence '\\)'\n",
      "  regex_find = f\"{call_class}\\(([^\\)]{{1,}})\\)\"\n",
      "/home/ubuntu/unsloth-finetune-ec2/.venv/lib/python3.12/site-packages/unsloth_zoo/compiler.py:825: SyntaxWarning: invalid escape sequence '\\('\n",
      "  regex_find = \"def forward\\(([^\\)]{1,})\\)\"\n",
      "/home/ubuntu/unsloth-finetune-ec2/.venv/lib/python3.12/site-packages/unsloth_zoo/compiler.py:927: SyntaxWarning: invalid escape sequence '\\)'\n",
      "  inherited_modules = re.findall(r\"class ([^\\s]{1,})\\(\" + inherited_class + \"\\)\", full_source)\n",
      "/home/ubuntu/unsloth-finetune-ec2/.venv/lib/python3.12/site-packages/unsloth_zoo/compiler.py:970: SyntaxWarning: invalid escape sequence '\\('\n",
      "  called = re.findall(r\"[\\s]{1,}\" + re.escape(function) + \"\\(.+?\\)\", full_source, flags = re.DOTALL)\n",
      "/home/ubuntu/unsloth-finetune-ec2/.venv/lib/python3.12/site-packages/unsloth_zoo/compiler.py:1271: SyntaxWarning: invalid escape sequence '\\.'\n",
      "  start = re.search('logger\\.info\\([\\\"\\'].+?Running training', inner_training_loop).span(0)[0]\n",
      "/home/ubuntu/unsloth-finetune-ec2/.venv/lib/python3.12/site-packages/unsloth_zoo/compiler.py:1274: SyntaxWarning: invalid escape sequence '\\s'\n",
      "  spaces = re.search('\\n([\\s\\t]{1,})', original_debug).group(0)[1:]\n",
      "/home/ubuntu/unsloth-finetune-ec2/.venv/lib/python3.12/site-packages/unsloth_zoo/compiler.py:1275: SyntaxWarning: invalid escape sequence '\\s'\n",
      "  front_spaces = re.match('([\\s\\t]{1,})', inner_training_loop).group(0)\n",
      "/home/ubuntu/unsloth-finetune-ec2/.venv/lib/python3.12/site-packages/unsloth_zoo/peft_utils.py:222: SyntaxWarning: invalid escape sequence '\\.'\n",
      "  name = re.sub(\"\\.([\\d]{1,})\\.\", r\"[\\1].\", name)\n"
     ]
    },
    {
     "name": "stdout",
     "output_type": "stream",
     "text": [
      "🦥 Unsloth Zoo will now patch everything to make training faster!\n"
     ]
    },
    {
     "name": "stderr",
     "output_type": "stream",
     "text": [
      "/home/ubuntu/unsloth-finetune-ec2/.venv/lib/python3.12/site-packages/unsloth/tokenizer_utils.py:962: SyntaxWarning: invalid escape sequence '\\('\n",
      "  f\"def {function_name}\\(.*?\\).*?\\:\\n\",\n",
      "/home/ubuntu/unsloth-finetune-ec2/.venv/lib/python3.12/site-packages/unsloth/save.py:485: SyntaxWarning: invalid escape sequence '\\s'\n",
      "  gb_found = re.match(\"([0-9]{1,})[\\s]{0,}GB\", max_shard_size, flags = re.IGNORECASE)\n",
      "/home/ubuntu/unsloth-finetune-ec2/.venv/lib/python3.12/site-packages/unsloth/save.py:486: SyntaxWarning: invalid escape sequence '\\s'\n",
      "  mb_found = re.match(\"([0-9]{1,})[\\s]{0,}MB\", max_shard_size, flags = re.IGNORECASE)\n",
      "/home/ubuntu/unsloth-finetune-ec2/.venv/lib/python3.12/site-packages/unsloth/save.py:1020: SyntaxWarning: invalid escape sequence '\\ '\n",
      "  f\"   \\\\\\   /|    [0] Installing llama.cpp might take 3 minutes.\\n\"\\\n",
      "/home/ubuntu/unsloth-finetune-ec2/.venv/lib/python3.12/site-packages/unsloth/save.py:1021: SyntaxWarning: invalid escape sequence '\\_'\n",
      "  f\"O^O/ \\_/ \\\\    [1] Converting HF to GGUF 16bits might take 3 minutes.\\n\"\\\n",
      "/home/ubuntu/unsloth-finetune-ec2/.venv/lib/python3.12/site-packages/unsloth/save.py:1022: SyntaxWarning: invalid escape sequence '\\ '\n",
      "  f\"\\        /    [2] Converting GGUF 16bits to {quantization_method} might take 10 minutes each.\\n\"\\\n",
      "/home/ubuntu/unsloth-finetune-ec2/.venv/lib/python3.12/site-packages/unsloth/models/rl.py:528: SyntaxWarning: invalid escape sequence '\\('\n",
      "  \"def __init__\\(.*?\\).*?\\:\\n\",\n",
      "2025-03-16 19:43:33,850\tINFO util.py:154 -- Missing packages: ['ipywidgets']. Run `pip install -U ipywidgets`, then restart the notebook server for rich notebook output.\n",
      "/home/ubuntu/unsloth-finetune-ec2/.venv/lib/python3.12/site-packages/unsloth/models/vision.py:101: SyntaxWarning: invalid escape sequence '\\ '\n",
      "  f\"   \\\\\\   /|    GPU: {gpu_stats.name}. Max memory: {max_memory} GB. Platform: {platform_system}.\\n\"\\\n",
      "/home/ubuntu/unsloth-finetune-ec2/.venv/lib/python3.12/site-packages/unsloth/models/vision.py:102: SyntaxWarning: invalid escape sequence '\\_'\n",
      "  f\"O^O/ \\_/ \\\\    Torch: {torch.__version__}. CUDA: {gpu_stats.major}.{gpu_stats.minor}. CUDA Toolkit: {torch.version.cuda}. Triton: {triton_version}\\n\"\\\n",
      "/home/ubuntu/unsloth-finetune-ec2/.venv/lib/python3.12/site-packages/unsloth/models/vision.py:103: SyntaxWarning: invalid escape sequence '\\ '\n",
      "  f\"\\        /    Bfloat16 = {str(SUPPORTS_BFLOAT16).upper()}. FA [Xformers = {xformers_version}. FA2 = {HAS_FLASH_ATTENTION}]\\n\"\\\n",
      "/home/ubuntu/unsloth-finetune-ec2/.venv/lib/python3.12/site-packages/unsloth/chat_templates.py:1687: SyntaxWarning: invalid escape sequence '\\{'\n",
      "  try: found = next(re.finditer(\"(\" + try_find + \").+?\\{INPUT\\}\", chat_template, flags = re.DOTALL | re.MULTILINE))\n",
      "/home/ubuntu/unsloth-finetune-ec2/.venv/lib/python3.12/site-packages/unsloth/chat_templates.py:2128: SyntaxWarning: invalid escape sequence '\\d'\n",
      "  gguf_tokenized = re.findall(\"([\\d]{1,}) \\-\\> \\'([^\\']{1,})\\'\", gguf_tokens, flags = re.MULTILINE)\n"
     ]
    }
   ],
   "source": [
    "import os\n",
    "import logging\n",
    "import globals as g\n",
    "from dotenv import load_dotenv\n",
    "from unsloth import to_sharegpt\n",
    "from datasets import load_dataset\n",
    "from unsloth import FastLanguageModel\n",
    "from unsloth import standardize_sharegpt\n",
    "from ec2_metrics import EC2MetricsCallback\n",
    "\n",
    "# Create a logger\n",
    "logger = logging.getLogger()\n",
    "logger.setLevel(logging.INFO)\n",
    "\n",
    "# Remove existing handlers\n",
    "logger.handlers.clear()\n",
    "\n",
    "# Add a simple handler\n",
    "handler = logging.StreamHandler()\n",
    "formatter = logging.Formatter('[%(asctime)s] p%(process)s {%(filename)s:%(lineno)d} %(levelname)s - %(message)s')\n",
    "handler.setFormatter(formatter)\n",
    "logger.addHandler(handler)"
   ]
  },
  {
   "cell_type": "code",
   "execution_count": 2,
   "metadata": {},
   "outputs": [],
   "source": [
    "# Load environment variables from .env file\n",
    "load_dotenv()\n",
    "import getpass\n",
    "load_dotenv()\n",
    "if not os.getenv(\"HF_TOKEN\"):\n",
    "    os.environ[\"HF_TOKEN\"] = getpass.getpass(\"Enter your HuggingFace token: \")\n",
    "hf_token = os.getenv(\"HF_TOKEN\")\n",
    "\n",
    "if not os.getenv(\"HF_MODEL_ID\"):\n",
    "    hf_model_id  = input(\"Enter the model id to use for fine-tuning (e.g. meta-llama/Llama-3.1-8B-Instruct): \")\n",
    "\n",
    "logger.info(f\"hf_model_id={hf_model_id}\")"
   ]
  },
  {
   "cell_type": "code",
   "execution_count": null,
   "metadata": {},
   "outputs": [],
   "source": [
    "logger.info(f\"Model that will be trained using GRPO: {hf_model_id}\")"
   ]
  },
  {
   "cell_type": "code",
   "execution_count": null,
   "metadata": {},
   "outputs": [],
   "source": [
    "# Represents constants used in loading the model\n",
    "max_seq_length = 512 # Can increase for longer reasoning traces\n",
    "lora_rank = 32 # Larger rank = smarter, but slower"
   ]
  },
  {
   "cell_type": "code",
   "execution_count": null,
   "metadata": {},
   "outputs": [],
   "source": [
    "from unsloth import FastLanguageModel, PatchFastRL\n",
    "PatchFastRL(\"GRPO\", FastLanguageModel)"
   ]
  },
  {
   "cell_type": "code",
   "execution_count": null,
   "metadata": {},
   "outputs": [],
   "source": [
    "# load the model\n",
    "import torch\n",
    "from unsloth import is_bfloat16_supported\n",
    "\n",
    "model, tokenizer = FastLanguageModel.from_pretrained(\n",
    "    model_name = hf_model_id,\n",
    "    max_seq_length = max_seq_length,\n",
    "    load_in_4bit = True, # False for LoRA 16bit\n",
    "    fast_inference = True, # Enable vLLM fast inference\n",
    "    max_lora_rank = lora_rank,\n",
    "    gpu_memory_utilization = 0.6, # Reduce if out of memory\n",
    "    token = hf_token,\n",
    ")\n",
    "\n",
    "model = FastLanguageModel.get_peft_model(\n",
    "    model,\n",
    "    r = lora_rank, # Choose any number > 0 ! Suggested 8, 16, 32, 64, 128\n",
    "    target_modules = [\n",
    "        \"q_proj\", \"k_proj\", \"v_proj\", \"o_proj\",\n",
    "        \"gate_proj\", \"up_proj\", \"down_proj\",\n",
    "    ], # Remove QKVO if out of memory\n",
    "    lora_alpha = lora_rank,\n",
    "    use_gradient_checkpointing = \"unsloth\", # Enable long context finetuning\n",
    "    random_state = 3407,\n",
    ")"
   ]
  },
  {
   "cell_type": "markdown",
   "metadata": {},
   "source": [
    "### Data Prep\n",
    "---"
   ]
  },
  {
   "cell_type": "code",
   "execution_count": 7,
   "metadata": {},
   "outputs": [],
   "source": [
    "import re\n",
    "from datasets import load_dataset, Dataset\n",
    "\n",
    "# Load and prep dataset\n",
    "SYSTEM_PROMPT = \"\"\"\n",
    "Respond in the following format:\n",
    "<reasoning>\n",
    "...\n",
    "</reasoning>\n",
    "<answer>\n",
    "...\n",
    "</answer>\n",
    "\"\"\"\n",
    "\n",
    "XML_COT_FORMAT = \"\"\"\\\n",
    "<reasoning>\n",
    "{reasoning}\n",
    "</reasoning>\n",
    "<answer>\n",
    "{answer}\n",
    "</answer>\n",
    "\"\"\"\n",
    "\n",
    "def extract_xml_answer(text: str) -> str:\n",
    "    answer = text.split(\"<answer>\")[-1]\n",
    "    answer = answer.split(\"</answer>\")[0]\n",
    "    return answer.strip()\n",
    "\n",
    "def extract_hash_answer(text: str) -> str | None:\n",
    "    if \"####\" not in text:\n",
    "        return None\n",
    "    return text.split(\"####\")[1].strip()\n",
    "\n",
    "# uncomment middle messages for 1-shot prompting\n",
    "def get_gsm8k_questions(split = \"train\") -> Dataset:\n",
    "    data = load_dataset('openai/gsm8k', 'main')[split] # type: ignore\n",
    "    data = data.map(lambda x: { # type: ignore\n",
    "        'prompt': [\n",
    "            {'role': 'system', 'content': SYSTEM_PROMPT},\n",
    "            {'role': 'user', 'content': x['question']}\n",
    "        ],\n",
    "        'answer': extract_hash_answer(x['answer'])\n",
    "    }) # type: ignore\n",
    "    return data # type: ignore\n",
    "\n",
    "dataset = get_gsm8k_questions()\n",
    "\n",
    "# Reward functions\n",
    "def correctness_reward_func(prompts, completions, answer, **kwargs) -> list[float]:\n",
    "    responses = [completion[0]['content'] for completion in completions]\n",
    "    q = prompts[0][-1]['content']\n",
    "    extracted_responses = [extract_xml_answer(r) for r in responses]\n",
    "    print('-'*20, f\"Question:\\n{q}\", f\"\\nAnswer:\\n{answer[0]}\", f\"\\nResponse:\\n{responses[0]}\", f\"\\nExtracted:\\n{extracted_responses[0]}\")\n",
    "    return [2.0 if r == a else 0.0 for r, a in zip(extracted_responses, answer)]\n",
    "\n",
    "def int_reward_func(completions, **kwargs) -> list[float]:\n",
    "    responses = [completion[0]['content'] for completion in completions]\n",
    "    extracted_responses = [extract_xml_answer(r) for r in responses]\n",
    "    return [0.5 if r.isdigit() else 0.0 for r in extracted_responses]\n",
    "\n",
    "def strict_format_reward_func(completions, **kwargs) -> list[float]:\n",
    "    \"\"\"Reward function that checks if the completion has a specific format.\"\"\"\n",
    "    pattern = r\"^<reasoning>\\n.*?\\n</reasoning>\\n<answer>\\n.*?\\n</answer>\\n$\"\n",
    "    responses = [completion[0][\"content\"] for completion in completions]\n",
    "    matches = [re.match(pattern, r) for r in responses]\n",
    "    return [0.5 if match else 0.0 for match in matches]\n",
    "\n",
    "def soft_format_reward_func(completions, **kwargs) -> list[float]:\n",
    "    \"\"\"Reward function that checks if the completion has a specific format.\"\"\"\n",
    "    pattern = r\"<reasoning>.*?</reasoning>\\s*<answer>.*?</answer>\"\n",
    "    responses = [completion[0][\"content\"] for completion in completions]\n",
    "    matches = [re.match(pattern, r) for r in responses]\n",
    "    return [0.5 if match else 0.0 for match in matches]\n",
    "\n",
    "def count_xml(text) -> float:\n",
    "    count = 0.0\n",
    "    if text.count(\"<reasoning>\\n\") == 1:\n",
    "        count += 0.125\n",
    "    if text.count(\"\\n</reasoning>\\n\") == 1:\n",
    "        count += 0.125\n",
    "    if text.count(\"\\n<answer>\\n\") == 1:\n",
    "        count += 0.125\n",
    "        count -= len(text.split(\"\\n</answer>\\n\")[-1])*0.001\n",
    "    if text.count(\"\\n</answer>\") == 1:\n",
    "        count += 0.125\n",
    "        count -= (len(text.split(\"\\n</answer>\")[-1]) - 1)*0.001\n",
    "    return count\n",
    "\n",
    "def xmlcount_reward_func(completions, **kwargs) -> list[float]:\n",
    "    contents = [completion[0][\"content\"] for completion in completions]\n",
    "    return [count_xml(c) for c in contents]"
   ]
  },
  {
   "cell_type": "markdown",
   "metadata": {},
   "source": [
    "### Train the model using `GRPO`\n",
    "---\n",
    "\n",
    "***Running this with `max_steps` set to 250 will take approximately ~30~ minutes to train***"
   ]
  },
  {
   "cell_type": "code",
   "execution_count": null,
   "metadata": {},
   "outputs": [],
   "source": [
    "from trl import GRPOConfig, GRPOTrainer\n",
    "training_args = GRPOConfig(\n",
    "    use_vllm = True, # use vLLM for fast inference!\n",
    "    learning_rate = 5e-6,\n",
    "    adam_beta1 = 0.9,\n",
    "    adam_beta2 = 0.99,\n",
    "    weight_decay = 0.1,\n",
    "    warmup_ratio = 0.1,\n",
    "    lr_scheduler_type = \"cosine\",\n",
    "    optim = \"paged_adamw_8bit\",\n",
    "    logging_steps = 1,\n",
    "    bf16 = is_bfloat16_supported(),\n",
    "    fp16 = not is_bfloat16_supported(),\n",
    "    per_device_train_batch_size = 1,\n",
    "    gradient_accumulation_steps = 1, # Increase to 4 for smoother training\n",
    "    num_generations = 6, # Decrease if out of memory\n",
    "    max_prompt_length = 256,\n",
    "    max_completion_length = 200,\n",
    "    # num_train_epochs = 1, # Set to 1 for a full training run\n",
    "    max_steps = 250,\n",
    "    save_steps = 250,\n",
    "    max_grad_norm = 0.1,\n",
    "    report_to = \"none\", # Can use Weights & Biases\n",
    "    output_dir = \"outputs\",\n",
    ")"
   ]
  },
  {
   "cell_type": "code",
   "execution_count": 9,
   "metadata": {},
   "outputs": [],
   "source": [
    "trainer = GRPOTrainer(\n",
    "    model = model,\n",
    "    processing_class = tokenizer,\n",
    "    reward_funcs = [\n",
    "        xmlcount_reward_func,\n",
    "        soft_format_reward_func,\n",
    "        strict_format_reward_func,\n",
    "        int_reward_func,\n",
    "        correctness_reward_func,\n",
    "    ],\n",
    "    args = training_args,\n",
    "    train_dataset = dataset,\n",
    "    callbacks = [EC2MetricsCallback],\n",
    ")"
   ]
  },
  {
   "cell_type": "code",
   "execution_count": null,
   "metadata": {},
   "outputs": [],
   "source": [
    "trainer_stats = trainer.train()"
   ]
  },
  {
   "cell_type": "markdown",
   "metadata": {},
   "source": [
    "### Log the trainer stats\n",
    "---\n",
    "\n",
    "In this step, we log some of the trainer stats, such as the number of global steps it took to get to a specific training loss, the train runtime, samples per second, steps per second, etc."
   ]
  },
  {
   "cell_type": "code",
   "execution_count": null,
   "metadata": {},
   "outputs": [],
   "source": [
    "# Format the training stats in a readable way\n",
    "output_text = f\"\"\"Training Statistics:\n",
    "Global Steps: {trainer_stats.global_step}\n",
    "Training Loss: {trainer_stats.training_loss:.4f}\n",
    "\n",
    "Metrics:\n",
    "- Train Runtime: {trainer_stats.metrics['train_runtime']:.3f} seconds\n",
    "- Training Samples/Second: {trainer_stats.metrics['train_samples_per_second']:.3f}\n",
    "- Training Steps/Second: {trainer_stats.metrics['train_steps_per_second']:.3f}\n",
    "- Total FLOPS: {trainer_stats.metrics['total_flos']:.2e}\n",
    "- Final Train Loss: {trainer_stats.metrics['train_loss']:.4f}\n",
    "\"\"\"\n",
    "\n",
    "# Save to a text file\n",
    "with open(os.path.join(g.RESULTS_DIR, g.TRAINING_STATS), 'w') as f:\n",
    "    f.write(output_text)"
   ]
  },
  {
   "cell_type": "markdown",
   "metadata": {},
   "source": [
    "### Inference\n",
    "---\n",
    "\n",
    "Now let's try the model we just trained! First, let's first try the model without any GRPO trained:"
   ]
  },
  {
   "cell_type": "code",
   "execution_count": null,
   "metadata": {},
   "outputs": [],
   "source": [
    "text = tokenizer.apply_chat_template([\n",
    "    {\"role\" : \"user\", \"content\" : \"Calculate pi.\"},\n",
    "], tokenize = False, add_generation_prompt = True)\n",
    "\n",
    "from vllm import SamplingParams\n",
    "sampling_params = SamplingParams(\n",
    "    temperature = 0.8,\n",
    "    top_p = 0.95,\n",
    "    max_tokens = 1024,\n",
    ")\n",
    "output = model.fast_generate(\n",
    "    [text],\n",
    "    sampling_params = sampling_params,\n",
    "    lora_request = None,\n",
    ")[0].outputs[0].text\n",
    "output"
   ]
  },
  {
   "cell_type": "markdown",
   "metadata": {},
   "source": [
    "And now with the LoRA we just trained with GRPO - we first save the LoRA first!"
   ]
  },
  {
   "cell_type": "code",
   "execution_count": null,
   "metadata": {},
   "outputs": [],
   "source": [
    "model.save_lora(\"grpo_saved_lora\")"
   ]
  },
  {
   "cell_type": "code",
   "execution_count": null,
   "metadata": {},
   "outputs": [],
   "source": [
    "text = tokenizer.apply_chat_template([\n",
    "    {\"role\" : \"system\", \"content\" : SYSTEM_PROMPT},\n",
    "    {\"role\" : \"user\", \"content\" : \"Calculate pi.\"},\n",
    "], tokenize = False, add_generation_prompt = True)\n",
    "\n",
    "from vllm import SamplingParams\n",
    "sampling_params = SamplingParams(\n",
    "    temperature = 0.8,\n",
    "    top_p = 0.95,\n",
    "    max_tokens = 1024,\n",
    ")\n",
    "output = model.fast_generate(\n",
    "    text,\n",
    "    sampling_params = sampling_params,\n",
    "    lora_request = model.load_lora(\"grpo_saved_lora\"),\n",
    ")[0].outputs[0].text\n",
    "\n",
    "output"
   ]
  }
 ],
 "metadata": {
  "kernelspec": {
   "display_name": "Python (uv env)",
   "language": "python",
   "name": ".venv"
  },
  "language_info": {
   "codemirror_mode": {
    "name": "ipython",
    "version": 3
   },
   "file_extension": ".py",
   "mimetype": "text/x-python",
   "name": "python",
   "nbconvert_exporter": "python",
   "pygments_lexer": "ipython3",
   "version": "3.12.6"
  }
 },
 "nbformat": 4,
 "nbformat_minor": 2
}
